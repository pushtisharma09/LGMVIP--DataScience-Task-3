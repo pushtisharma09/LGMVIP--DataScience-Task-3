{
 "cells": [
  {
   "cell_type": "markdown",
   "id": "553b6d9e",
   "metadata": {},
   "source": [
    "# Image to Pencil Sketch with Python\n",
    "Author: Rohan Khanna\n",
    "\n",
    "We need to read the image in RBG format and then convert it to a grayscale image. This will turn an image into a classic black and white photo. Then the next thing to do is invert the grayscale image also called negative image, this will be our inverted grayscale image. Inversion can be used to enhance details. Then we can finally create the pencil sketch by mixing the grayscale image with the inverted blurry image. This can be done by dividing the grayscale image by the inverted blurry image. Since images are just arrays, we can easily do this programmatically using the divide function from the cv2 library in Python."
   ]
  },
  {
   "cell_type": "code",
   "execution_count": 1,
   "id": "9e418bce",
   "metadata": {},
   "outputs": [],
   "source": [
    "import cv2 # we are importing the library"
   ]
  },
  {
   "cell_type": "code",
   "execution_count": 2,
   "id": "7f089d72",
   "metadata": {},
   "outputs": [],
   "source": [
    "img=cv2.imread('captain-america.jpg')"
   ]
  },
  {
   "cell_type": "code",
   "execution_count": 3,
   "id": "1d0ccd5c",
   "metadata": {},
   "outputs": [
    {
     "data": {
      "text/plain": [
       "array([[[32, 30, 29],\n",
       "        [26, 24, 23],\n",
       "        [18, 16, 15],\n",
       "        ...,\n",
       "        [31, 27, 33],\n",
       "        [29, 25, 31],\n",
       "        [36, 32, 38]],\n",
       "\n",
       "       [[27, 25, 24],\n",
       "        [21, 19, 18],\n",
       "        [14, 12, 11],\n",
       "        ...,\n",
       "        [32, 28, 34],\n",
       "        [29, 25, 31],\n",
       "        [37, 33, 39]],\n",
       "\n",
       "       [[21, 19, 18],\n",
       "        [14, 12, 11],\n",
       "        [ 7,  5,  4],\n",
       "        ...,\n",
       "        [32, 28, 34],\n",
       "        [30, 26, 32],\n",
       "        [40, 36, 42]],\n",
       "\n",
       "       ...,\n",
       "\n",
       "       [[17, 12,  9],\n",
       "        [10,  5,  2],\n",
       "        [ 7,  2,  0],\n",
       "        ...,\n",
       "        [ 6,  1,  0],\n",
       "        [ 9,  4,  3],\n",
       "        [15, 10,  9]],\n",
       "\n",
       "       [[18, 13, 10],\n",
       "        [11,  6,  3],\n",
       "        [ 8,  3,  0],\n",
       "        ...,\n",
       "        [ 6,  1,  0],\n",
       "        [ 8,  3,  2],\n",
       "        [14,  9,  8]],\n",
       "\n",
       "       [[28, 23, 20],\n",
       "        [22, 17, 14],\n",
       "        [18, 13, 10],\n",
       "        ...,\n",
       "        [15, 10,  9],\n",
       "        [17, 12, 11],\n",
       "        [23, 18, 17]]], dtype=uint8)"
      ]
     },
     "execution_count": 3,
     "metadata": {},
     "output_type": "execute_result"
    }
   ],
   "source": [
    "img"
   ]
  },
  {
   "cell_type": "code",
   "execution_count": 4,
   "id": "cc43b44f",
   "metadata": {},
   "outputs": [
    {
     "data": {
      "text/plain": [
       "(1920, 1080, 3)"
      ]
     },
     "execution_count": 4,
     "metadata": {},
     "output_type": "execute_result"
    }
   ],
   "source": [
    "img.shape"
   ]
  },
  {
   "cell_type": "code",
   "execution_count": 5,
   "id": "53d40429",
   "metadata": {},
   "outputs": [
    {
     "data": {
      "text/plain": [
       "array([[30, 24, 16, ..., 29, 27, 34],\n",
       "       [25, 19, 12, ..., 30, 27, 35],\n",
       "       [19, 12,  5, ..., 30, 28, 38],\n",
       "       ...,\n",
       "       [12,  5,  2, ...,  1,  4, 10],\n",
       "       [13,  6,  3, ...,  1,  3,  9],\n",
       "       [23, 17, 13, ..., 10, 12, 18]], dtype=uint8)"
      ]
     },
     "execution_count": 5,
     "metadata": {},
     "output_type": "execute_result"
    }
   ],
   "source": [
    "# we are adding the grey filter to the image\n",
    "grey_filter=cv2.cvtColor(img, cv2.COLOR_BGR2GRAY)\n",
    "grey_filter"
   ]
  },
  {
   "cell_type": "code",
   "execution_count": 6,
   "id": "f8bd1cbe",
   "metadata": {},
   "outputs": [
    {
     "data": {
      "text/plain": [
       "array([[225, 231, 239, ..., 226, 228, 221],\n",
       "       [230, 236, 243, ..., 225, 228, 220],\n",
       "       [236, 243, 250, ..., 225, 227, 217],\n",
       "       ...,\n",
       "       [243, 250, 253, ..., 254, 251, 245],\n",
       "       [242, 249, 252, ..., 254, 252, 246],\n",
       "       [232, 238, 242, ..., 245, 243, 237]], dtype=uint8)"
      ]
     },
     "execution_count": 6,
     "metadata": {},
     "output_type": "execute_result"
    }
   ],
   "source": [
    "invert=cv2.bitwise_not(grey_filter)\n",
    "invert"
   ]
  },
  {
   "cell_type": "code",
   "execution_count": 7,
   "id": "71f50fbd",
   "metadata": {},
   "outputs": [
    {
     "data": {
      "text/plain": [
       "array([[244, 244, 244, ..., 225, 225, 225],\n",
       "       [244, 244, 244, ..., 225, 225, 225],\n",
       "       [245, 245, 244, ..., 225, 225, 225],\n",
       "       ...,\n",
       "       [247, 247, 247, ..., 250, 250, 249],\n",
       "       [247, 247, 247, ..., 250, 249, 249],\n",
       "       [247, 247, 247, ..., 250, 249, 249]], dtype=uint8)"
      ]
     },
     "execution_count": 7,
     "metadata": {},
     "output_type": "execute_result"
    }
   ],
   "source": [
    "# we are adding the blur attribute of cv2 library\n",
    "blur=cv2.GaussianBlur(invert,(21,21),0)\n",
    "blur"
   ]
  },
  {
   "cell_type": "code",
   "execution_count": 8,
   "id": "e53a3199",
   "metadata": {},
   "outputs": [
    {
     "data": {
      "text/plain": [
       "array([[11, 11, 11, ..., 30, 30, 30],\n",
       "       [11, 11, 11, ..., 30, 30, 30],\n",
       "       [10, 10, 11, ..., 30, 30, 30],\n",
       "       ...,\n",
       "       [ 8,  8,  8, ...,  5,  5,  6],\n",
       "       [ 8,  8,  8, ...,  5,  6,  6],\n",
       "       [ 8,  8,  8, ...,  5,  6,  6]], dtype=uint8)"
      ]
     },
     "execution_count": 8,
     "metadata": {},
     "output_type": "execute_result"
    }
   ],
   "source": [
    "invertblur=cv2.bitwise_not(blur)\n",
    "invertblur"
   ]
  },
  {
   "cell_type": "code",
   "execution_count": 9,
   "id": "f5014222",
   "metadata": {},
   "outputs": [
    {
     "data": {
      "text/plain": [
       "array([[255, 255, 255, ..., 246, 230, 255],\n",
       "       [255, 255, 255, ..., 255, 230, 255],\n",
       "       [255, 255, 116, ..., 255, 238, 255],\n",
       "       ...,\n",
       "       [255, 159,  64, ...,  51, 204, 255],\n",
       "       [255, 191,  96, ...,  51, 128, 255],\n",
       "       [255, 255, 255, ..., 255, 255, 255]], dtype=uint8)"
      ]
     },
     "execution_count": 9,
     "metadata": {},
     "output_type": "execute_result"
    }
   ],
   "source": [
    "sketch=cv2.divide(grey_filter,invertblur,scale=255.0)\n",
    "sketch"
   ]
  },
  {
   "cell_type": "code",
   "execution_count": 10,
   "id": "63928b27",
   "metadata": {},
   "outputs": [
    {
     "data": {
      "text/plain": [
       "True"
      ]
     },
     "execution_count": 10,
     "metadata": {},
     "output_type": "execute_result"
    }
   ],
   "source": [
    "cv2.imwrite('output.png',sketch)"
   ]
  },
  {
   "cell_type": "code",
   "execution_count": null,
   "id": "9da209a9",
   "metadata": {},
   "outputs": [],
   "source": []
  }
 ],
 "metadata": {
  "kernelspec": {
   "display_name": "Python 3 (ipykernel)",
   "language": "python",
   "name": "python3"
  },
  "language_info": {
   "codemirror_mode": {
    "name": "ipython",
    "version": 3
   },
   "file_extension": ".py",
   "mimetype": "text/x-python",
   "name": "python",
   "nbconvert_exporter": "python",
   "pygments_lexer": "ipython3",
   "version": "3.9.7"
  }
 },
 "nbformat": 4,
 "nbformat_minor": 5
}
